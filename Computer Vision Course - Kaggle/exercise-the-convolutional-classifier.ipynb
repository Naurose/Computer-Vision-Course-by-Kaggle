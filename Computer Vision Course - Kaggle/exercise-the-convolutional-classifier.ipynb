{
 "cells": [
  {
   "cell_type": "markdown",
   "id": "a59c1798",
   "metadata": {
    "papermill": {
     "duration": 0.005357,
     "end_time": "2025-10-15T07:29:49.136689",
     "exception": false,
     "start_time": "2025-10-15T07:29:49.131332",
     "status": "completed"
    },
    "tags": []
   },
   "source": [
    "**This notebook is an exercise in the [Computer Vision](https://www.kaggle.com/learn/computer-vision) course.  You can reference the tutorial at [this link](https://www.kaggle.com/ryanholbrook/the-convolutional-classifier).**\n",
    "\n",
    "---\n"
   ]
  },
  {
   "cell_type": "markdown",
   "id": "2f09bd16",
   "metadata": {
    "papermill": {
     "duration": 0.004487,
     "end_time": "2025-10-15T07:29:49.146243",
     "exception": false,
     "start_time": "2025-10-15T07:29:49.141756",
     "status": "completed"
    },
    "tags": []
   },
   "source": [
    "<blockquote style=\"margin-right:auto; margin-left:auto; padding: 1em; margin:24px;\">\n",
    "    <strong>Accelerate Training with a Kaggle GPU!</strong><br>\n",
    "Did you know Kaggle offers free time with a GPU accelerator? You can speed up training neural networks in this course by switching to <strong>GPU</strong> in the <em>Accelerator</em> option on the right. (It may already be turned on.) Two things to be aware of:\n",
    "<ul>\n",
    "<li>Changing the <em>Accelerator</em> option will cause the notebook session to restart. You'll need to rerun any setup code.\n",
    "<li>You can have only one GPU session at a time, so be sure to shut the notebook down after you've finished the exercise.\n",
    "</ul>\n",
    "</blockquote>"
   ]
  },
  {
   "cell_type": "markdown",
   "id": "331ef37d",
   "metadata": {
    "papermill": {
     "duration": 0.004382,
     "end_time": "2025-10-15T07:29:49.155451",
     "exception": false,
     "start_time": "2025-10-15T07:29:49.151069",
     "status": "completed"
    },
    "tags": []
   },
   "source": [
    "# Introduction #\n",
    "\n",
    "In the tutorial, we saw how to build an image classifier by attaching a head of dense layers to a pretrained base. The base we used was from a model called **VGG16**. We saw that the VGG16 architecture was prone to overfitting this dataset. Over this course, you'll learn a number of ways you can improve upon this initial attempt.\n",
    "\n",
    "The first way you'll see is to use a base more appropriate to the dataset. The base this model comes from is called **InceptionV1** (also known as GoogLeNet). InceptionV1 was one of the early winners of the ImageNet competition. One of its successors, InceptionV4, is among the state of the art today.\n",
    "\n",
    "To get started, run the code cell below to set everything up."
   ]
  },
  {
   "cell_type": "code",
   "execution_count": 1,
   "id": "9a78a86e",
   "metadata": {
    "execution": {
     "iopub.execute_input": "2025-10-15T07:29:49.167933Z",
     "iopub.status.busy": "2025-10-15T07:29:49.167356Z",
     "iopub.status.idle": "2025-10-15T07:30:26.080233Z",
     "shell.execute_reply": "2025-10-15T07:30:26.078942Z"
    },
    "lines_to_next_cell": 2,
    "papermill": {
     "duration": 36.922389,
     "end_time": "2025-10-15T07:30:26.082976",
     "exception": false,
     "start_time": "2025-10-15T07:29:49.160587",
     "status": "completed"
    },
    "tags": []
   },
   "outputs": [
    {
     "name": "stderr",
     "output_type": "stream",
     "text": [
      "2025-10-15 07:29:52.898887: E external/local_xla/xla/stream_executor/cuda/cuda_dnn.cc:9261] Unable to register cuDNN factory: Attempting to register factory for plugin cuDNN when one has already been registered\n",
      "2025-10-15 07:29:52.899053: E external/local_xla/xla/stream_executor/cuda/cuda_fft.cc:607] Unable to register cuFFT factory: Attempting to register factory for plugin cuFFT when one has already been registered\n",
      "2025-10-15 07:29:53.070180: E external/local_xla/xla/stream_executor/cuda/cuda_blas.cc:1515] Unable to register cuBLAS factory: Attempting to register factory for plugin cuBLAS when one has already been registered\n"
     ]
    },
    {
     "name": "stdout",
     "output_type": "stream",
     "text": [
      "Found 5117 files belonging to 2 classes.\n",
      "Found 5051 files belonging to 2 classes.\n"
     ]
    }
   ],
   "source": [
    "# Setup feedback system\n",
    "from learntools.core import binder\n",
    "binder.bind(globals())\n",
    "from learntools.computer_vision.ex1 import *\n",
    "\n",
    "# Imports\n",
    "import os, warnings\n",
    "import matplotlib.pyplot as plt\n",
    "from matplotlib import gridspec\n",
    "\n",
    "import numpy as np\n",
    "import tensorflow as tf\n",
    "from tensorflow.keras.preprocessing import image_dataset_from_directory\n",
    "\n",
    "# Reproducability\n",
    "def set_seed(seed=31415):\n",
    "    np.random.seed(seed)\n",
    "    tf.random.set_seed(seed)\n",
    "    os.environ['PYTHONHASHSEED'] = str(seed)\n",
    "    os.environ['TF_DETERMINISTIC_OPS'] = '1'\n",
    "set_seed()\n",
    "\n",
    "# Set Matplotlib defaults\n",
    "plt.rc('figure', autolayout=True)\n",
    "plt.rc('axes', labelweight='bold', labelsize='large',\n",
    "       titleweight='bold', titlesize=18, titlepad=10)\n",
    "plt.rc('image', cmap='magma')\n",
    "warnings.filterwarnings(\"ignore\") # to clean up output cells\n",
    "\n",
    "\n",
    "# Load training and validation sets\n",
    "ds_train_ = image_dataset_from_directory(\n",
    "    '../input/car-or-truck/train',\n",
    "    labels='inferred',\n",
    "    label_mode='binary',\n",
    "    image_size=[128, 128],\n",
    "    interpolation='nearest',\n",
    "    batch_size=64,\n",
    "    shuffle=True,\n",
    ")\n",
    "ds_valid_ = image_dataset_from_directory(\n",
    "    '../input/car-or-truck/valid',\n",
    "    labels='inferred',\n",
    "    label_mode='binary',\n",
    "    image_size=[128, 128],\n",
    "    interpolation='nearest',\n",
    "    batch_size=64,\n",
    "    shuffle=False,\n",
    ")\n",
    "\n",
    "# Data Pipeline\n",
    "def convert_to_float(image, label):\n",
    "    image = tf.image.convert_image_dtype(image, dtype=tf.float32)\n",
    "    return image, label\n",
    "\n",
    "AUTOTUNE = tf.data.experimental.AUTOTUNE\n",
    "ds_train = (\n",
    "    ds_train_\n",
    "    .map(convert_to_float)\n",
    "    .cache()\n",
    "    .prefetch(buffer_size=AUTOTUNE)\n",
    ")\n",
    "ds_valid = (\n",
    "    ds_valid_\n",
    "    .map(convert_to_float)\n",
    "    .cache()\n",
    "    .prefetch(buffer_size=AUTOTUNE)\n",
    ")\n"
   ]
  },
  {
   "cell_type": "markdown",
   "id": "ae270b07",
   "metadata": {
    "papermill": {
     "duration": 0.005694,
     "end_time": "2025-10-15T07:30:26.093768",
     "exception": false,
     "start_time": "2025-10-15T07:30:26.088074",
     "status": "completed"
    },
    "tags": []
   },
   "source": [
    "The **InceptionV1** model pretrained on ImageNet is available in the [TensorFlow Hub](https://www.tensorflow.org/hub/) repository, but we'll load it from a local copy. Run this cell to load InceptionV1 for your base."
   ]
  },
  {
   "cell_type": "code",
   "execution_count": 2,
   "id": "8afe50b3",
   "metadata": {
    "execution": {
     "iopub.execute_input": "2025-10-15T07:30:26.107726Z",
     "iopub.status.busy": "2025-10-15T07:30:26.107360Z",
     "iopub.status.idle": "2025-10-15T07:30:30.859774Z",
     "shell.execute_reply": "2025-10-15T07:30:30.858055Z"
    },
    "lines_to_next_cell": 0,
    "papermill": {
     "duration": 4.772797,
     "end_time": "2025-10-15T07:30:30.873591",
     "exception": false,
     "start_time": "2025-10-15T07:30:26.100794",
     "status": "completed"
    },
    "tags": []
   },
   "outputs": [],
   "source": [
    "import tensorflow_hub as hub\n",
    "\n",
    "pretrained_base = tf.keras.models.load_model(\n",
    "    '../input/cv-course-models/cv-course-models/inceptionv1'\n",
    ")"
   ]
  },
  {
   "cell_type": "markdown",
   "id": "4c3a789a",
   "metadata": {
    "papermill": {
     "duration": 0.004811,
     "end_time": "2025-10-15T07:30:30.884090",
     "exception": false,
     "start_time": "2025-10-15T07:30:30.879279",
     "status": "completed"
    },
    "tags": []
   },
   "source": [
    "# 1) Define Pretrained Base #\n",
    "\n",
    "Now that you have a pretrained base to do our feature extraction, decide whether this base should be trainable or not."
   ]
  },
  {
   "cell_type": "code",
   "execution_count": 3,
   "id": "fe1b3fa9",
   "metadata": {
    "execution": {
     "iopub.execute_input": "2025-10-15T07:30:30.897019Z",
     "iopub.status.busy": "2025-10-15T07:30:30.896052Z",
     "iopub.status.idle": "2025-10-15T07:30:30.908591Z",
     "shell.execute_reply": "2025-10-15T07:30:30.907377Z"
    },
    "lines_to_next_cell": 0,
    "papermill": {
     "duration": 0.022105,
     "end_time": "2025-10-15T07:30:30.911203",
     "exception": false,
     "start_time": "2025-10-15T07:30:30.889098",
     "status": "completed"
    },
    "tags": []
   },
   "outputs": [
    {
     "data": {
      "application/javascript": [
       "parent.postMessage({\"jupyterEvent\": \"custom.exercise_interaction\", \"data\": {\"outcomeType\": 1, \"valueTowardsCompletion\": 0.25, \"interactionType\": 1, \"questionType\": 2, \"questionId\": \"1_Q1\", \"learnToolsVersion\": \"0.3.4\", \"failureMessage\": \"\", \"exceptionClass\": \"\", \"trace\": \"\"}}, \"*\")"
      ],
      "text/plain": [
       "<IPython.core.display.Javascript object>"
      ]
     },
     "metadata": {},
     "output_type": "display_data"
    },
    {
     "data": {
      "text/markdown": [
       "<span style=\"color:#33cc33\">Correct:</span> When doing transfer learning, it's generally not a good idea to retrain the entire base -- at least not without some care. The reason is that the random weights in the head will initially create large gradient updates, which propogate back into the base layers and destroy much of the pretraining. Using techniques known as **fine tuning** it's possible to further train the base on new data, but this requires some care to do well."
      ],
      "text/plain": [
       "Correct: When doing transfer learning, it's generally not a good idea to retrain the entire base -- at least not without some care. The reason is that the random weights in the head will initially create large gradient updates, which propogate back into the base layers and destroy much of the pretraining. Using techniques known as **fine tuning** it's possible to further train the base on new data, but this requires some care to do well."
      ]
     },
     "metadata": {},
     "output_type": "display_data"
    }
   ],
   "source": [
    "# YOUR_CODE_HERE\n",
    "pretrained_base.trainable = False\n",
    "\n",
    "# Check your answer\n",
    "q_1.check()"
   ]
  },
  {
   "cell_type": "code",
   "execution_count": 4,
   "id": "57238be5",
   "metadata": {
    "execution": {
     "iopub.execute_input": "2025-10-15T07:30:30.925882Z",
     "iopub.status.busy": "2025-10-15T07:30:30.925462Z",
     "iopub.status.idle": "2025-10-15T07:30:30.935718Z",
     "shell.execute_reply": "2025-10-15T07:30:30.934181Z"
    },
    "papermill": {
     "duration": 0.022297,
     "end_time": "2025-10-15T07:30:30.939127",
     "exception": false,
     "start_time": "2025-10-15T07:30:30.916830",
     "status": "completed"
    },
    "tags": []
   },
   "outputs": [],
   "source": [
    "# Lines below will give you a hint or solution code\n",
    "#q_1.hint()\n",
    "#q_1.solution()"
   ]
  },
  {
   "cell_type": "markdown",
   "id": "e7ef2694",
   "metadata": {
    "papermill": {
     "duration": 0.009605,
     "end_time": "2025-10-15T07:30:30.955683",
     "exception": false,
     "start_time": "2025-10-15T07:30:30.946078",
     "status": "completed"
    },
    "tags": []
   },
   "source": [
    "# 2) Attach Head #\n",
    "\n",
    "Now that the base is defined to do the feature extraction, create a head of `Dense` layers to perform the classification, following this diagram:\n",
    "\n",
    "<figure>\n",
    "<img src=\"https://storage.googleapis.com/kaggle-media/learn/images/i5VU7Ry.png\" alt=\"Diagram of the dense head.\">\n",
    "</figure>\n"
   ]
  },
  {
   "cell_type": "code",
   "execution_count": 5,
   "id": "152d7213",
   "metadata": {
    "execution": {
     "iopub.execute_input": "2025-10-15T07:30:30.974422Z",
     "iopub.status.busy": "2025-10-15T07:30:30.974018Z",
     "iopub.status.idle": "2025-10-15T07:30:31.003657Z",
     "shell.execute_reply": "2025-10-15T07:30:31.001440Z"
    },
    "lines_to_next_cell": 0,
    "papermill": {
     "duration": 0.045708,
     "end_time": "2025-10-15T07:30:31.009870",
     "exception": false,
     "start_time": "2025-10-15T07:30:30.964162",
     "status": "completed"
    },
    "tags": []
   },
   "outputs": [
    {
     "data": {
      "application/javascript": [
       "parent.postMessage({\"jupyterEvent\": \"custom.exercise_interaction\", \"data\": {\"outcomeType\": 1, \"valueTowardsCompletion\": 0.25, \"interactionType\": 1, \"questionType\": 2, \"questionId\": \"2_Q2\", \"learnToolsVersion\": \"0.3.4\", \"failureMessage\": \"\", \"exceptionClass\": \"\", \"trace\": \"\"}}, \"*\")"
      ],
      "text/plain": [
       "<IPython.core.display.Javascript object>"
      ]
     },
     "metadata": {},
     "output_type": "display_data"
    },
    {
     "data": {
      "text/markdown": [
       "<span style=\"color:#33cc33\">Correct</span>"
      ],
      "text/plain": [
       "Correct"
      ]
     },
     "metadata": {},
     "output_type": "display_data"
    }
   ],
   "source": [
    "from tensorflow import keras\n",
    "from tensorflow.keras import layers\n",
    "\n",
    "model = keras.Sequential([\n",
    "    pretrained_base,\n",
    "    layers.Flatten(),\n",
    "    # YOUR CODE HERE. Attach a head of dense layers.\n",
    "    layers.Dense(6, activation= 'relu'),\n",
    "    layers.Dense(1, activation= 'sigmoid')\n",
    "])\n",
    "\n",
    "# Check your answer\n",
    "q_2.check()"
   ]
  },
  {
   "cell_type": "code",
   "execution_count": 6,
   "id": "6118713c",
   "metadata": {
    "execution": {
     "iopub.execute_input": "2025-10-15T07:30:31.025493Z",
     "iopub.status.busy": "2025-10-15T07:30:31.025075Z",
     "iopub.status.idle": "2025-10-15T07:30:31.031654Z",
     "shell.execute_reply": "2025-10-15T07:30:31.030183Z"
    },
    "papermill": {
     "duration": 0.017939,
     "end_time": "2025-10-15T07:30:31.034296",
     "exception": false,
     "start_time": "2025-10-15T07:30:31.016357",
     "status": "completed"
    },
    "tags": []
   },
   "outputs": [],
   "source": [
    "# Lines below will give you a hint or solution code\n",
    "#q_2.hint()\n",
    "#q_2.solution()"
   ]
  },
  {
   "cell_type": "markdown",
   "id": "aa714805",
   "metadata": {
    "papermill": {
     "duration": 0.005982,
     "end_time": "2025-10-15T07:30:31.046700",
     "exception": false,
     "start_time": "2025-10-15T07:30:31.040718",
     "status": "completed"
    },
    "tags": []
   },
   "source": [
    "# 3) Train #\n",
    "\n",
    "Before training a model in Keras, you need to specify an *optimizer* to perform the gradient descent, a *loss function* to be minimized, and (optionally) any *performance metrics*. The optimization algorithm we'll use for this course is called [\"Adam\"](https://keras.io/api/optimizers/adam/), which generally performs well regardless of what kind of problem you're trying to solve.\n",
    "\n",
    "The loss and the metrics, however, need to match the kind of problem you're trying to solve. Our problem is a **binary classification** problem: `Car` coded as 0, and `Truck` coded as 1. Choose an appropriate loss and an appropriate accuracy metric for binary classification."
   ]
  },
  {
   "cell_type": "code",
   "execution_count": 7,
   "id": "4d8b8e4d",
   "metadata": {
    "execution": {
     "iopub.execute_input": "2025-10-15T07:30:31.061403Z",
     "iopub.status.busy": "2025-10-15T07:30:31.061011Z",
     "iopub.status.idle": "2025-10-15T07:30:31.096361Z",
     "shell.execute_reply": "2025-10-15T07:30:31.095049Z"
    },
    "lines_to_next_cell": 0,
    "papermill": {
     "duration": 0.045593,
     "end_time": "2025-10-15T07:30:31.099111",
     "exception": false,
     "start_time": "2025-10-15T07:30:31.053518",
     "status": "completed"
    },
    "tags": []
   },
   "outputs": [
    {
     "data": {
      "application/javascript": [
       "parent.postMessage({\"jupyterEvent\": \"custom.exercise_interaction\", \"data\": {\"outcomeType\": 1, \"valueTowardsCompletion\": 0.25, \"interactionType\": 1, \"questionType\": 2, \"questionId\": \"3_Q3\", \"learnToolsVersion\": \"0.3.4\", \"failureMessage\": \"\", \"exceptionClass\": \"\", \"trace\": \"\"}}, \"*\")"
      ],
      "text/plain": [
       "<IPython.core.display.Javascript object>"
      ]
     },
     "metadata": {},
     "output_type": "display_data"
    },
    {
     "data": {
      "text/markdown": [
       "<span style=\"color:#33cc33\">Correct</span>"
      ],
      "text/plain": [
       "Correct"
      ]
     },
     "metadata": {},
     "output_type": "display_data"
    }
   ],
   "source": [
    "# YOUR CODE HERE: what loss function should you use for a binary\n",
    "# classification problem? (Your answer for each should be a string.)\n",
    "\n",
    "optimizer = tf.keras.optimizers.Adam(epsilon=0.01)\n",
    "\n",
    "model.compile(\n",
    "    optimizer= optimizer,\n",
    "    loss = \"binary_crossentropy\",\n",
    "    metrics=[\"binary_accuracy\"],\n",
    ")\n",
    "\n",
    "# Check your answer\n",
    "q_3.check()"
   ]
  },
  {
   "cell_type": "code",
   "execution_count": 8,
   "id": "32f6de7f",
   "metadata": {
    "execution": {
     "iopub.execute_input": "2025-10-15T07:30:31.113066Z",
     "iopub.status.busy": "2025-10-15T07:30:31.112658Z",
     "iopub.status.idle": "2025-10-15T07:30:31.118590Z",
     "shell.execute_reply": "2025-10-15T07:30:31.117432Z"
    },
    "lines_to_next_cell": 0,
    "papermill": {
     "duration": 0.015829,
     "end_time": "2025-10-15T07:30:31.121306",
     "exception": false,
     "start_time": "2025-10-15T07:30:31.105477",
     "status": "completed"
    },
    "tags": []
   },
   "outputs": [],
   "source": [
    "# Lines below will give you a hint or solution code\n",
    "#q_3.hint()\n",
    "#q_3.solution()"
   ]
  },
  {
   "cell_type": "code",
   "execution_count": 9,
   "id": "8709ac88",
   "metadata": {
    "execution": {
     "iopub.execute_input": "2025-10-15T07:30:31.135584Z",
     "iopub.status.busy": "2025-10-15T07:30:31.135218Z",
     "iopub.status.idle": "2025-10-15T07:34:29.026012Z",
     "shell.execute_reply": "2025-10-15T07:34:29.024762Z"
    },
    "papermill": {
     "duration": 237.915813,
     "end_time": "2025-10-15T07:34:29.043188",
     "exception": false,
     "start_time": "2025-10-15T07:30:31.127375",
     "status": "completed"
    },
    "tags": []
   },
   "outputs": [
    {
     "name": "stdout",
     "output_type": "stream",
     "text": [
      "Epoch 1/2\n",
      "80/80 [==============================] - 126s 1s/step - loss: 0.5807 - binary_accuracy: 0.6885 - val_loss: 0.4640 - val_binary_accuracy: 0.7897\n",
      "Epoch 2/2\n",
      "80/80 [==============================] - 112s 1s/step - loss: 0.4216 - binary_accuracy: 0.8108 - val_loss: 0.4129 - val_binary_accuracy: 0.8185\n"
     ]
    }
   ],
   "source": [
    "history = model.fit(\n",
    "    ds_train,\n",
    "    validation_data=ds_valid,\n",
    "    epochs= 2,\n",
    ")"
   ]
  },
  {
   "cell_type": "markdown",
   "id": "728b6d01",
   "metadata": {
    "papermill": {
     "duration": 0.015399,
     "end_time": "2025-10-15T07:34:29.074730",
     "exception": false,
     "start_time": "2025-10-15T07:34:29.059331",
     "status": "completed"
    },
    "tags": []
   },
   "source": [
    "Run the cell below to plot the loss and metric curves for this training run."
   ]
  },
  {
   "cell_type": "code",
   "execution_count": 10,
   "id": "7a9a738b",
   "metadata": {
    "execution": {
     "iopub.execute_input": "2025-10-15T07:34:29.107958Z",
     "iopub.status.busy": "2025-10-15T07:34:29.107558Z",
     "iopub.status.idle": "2025-10-15T07:34:29.846950Z",
     "shell.execute_reply": "2025-10-15T07:34:29.845478Z"
    },
    "papermill": {
     "duration": 0.759296,
     "end_time": "2025-10-15T07:34:29.849758",
     "exception": false,
     "start_time": "2025-10-15T07:34:29.090462",
     "status": "completed"
    },
    "tags": []
   },
   "outputs": [
    {
     "data": {
      "image/png": "[encoded data removed]",
      "text/plain": [
       "<Figure size 640x480 with 1 Axes>"
      ]
     },
     "metadata": {},
     "output_type": "display_data"
    },
    {
     "data": {
      "image/png": "[encoded data removed]",
      "text/plain": [
       "<Figure size 640x480 with 1 Axes>"
      ]
     },
     "metadata": {},
     "output_type": "display_data"
    }
   ],
   "source": [
    "import pandas as pd\n",
    "history_frame = pd.DataFrame(history.history)\n",
    "history_frame.loc[:, ['loss', 'val_loss']].plot()\n",
    "history_frame.loc[:, ['binary_accuracy', 'val_binary_accuracy']].plot();"
   ]
  },
  {
   "cell_type": "markdown",
   "id": "770e7a6f",
   "metadata": {
    "papermill": {
     "duration": 0.01801,
     "end_time": "2025-10-15T07:34:29.885630",
     "exception": false,
     "start_time": "2025-10-15T07:34:29.867620",
     "status": "completed"
    },
    "tags": []
   },
   "source": [
    "# 4) Examine Loss and Accuracy #\n",
    "\n",
    "Do you notice a difference between these learning curves and the curves for VGG16 from the tutorial? What does this difference tell you about what this model (InceptionV2) learned compared to VGG16? Are there ways in which one is better than the other? Worse?\n",
    "\n",
    "After you've thought about it, run the cell below to see the answer."
   ]
  },
  {
   "cell_type": "code",
   "execution_count": 11,
   "id": "ea622dfc",
   "metadata": {
    "execution": {
     "iopub.execute_input": "2025-10-15T07:34:29.921348Z",
     "iopub.status.busy": "2025-10-15T07:34:29.920968Z",
     "iopub.status.idle": "2025-10-15T07:34:29.931774Z",
     "shell.execute_reply": "2025-10-15T07:34:29.930276Z"
    },
    "papermill": {
     "duration": 0.032255,
     "end_time": "2025-10-15T07:34:29.935227",
     "exception": false,
     "start_time": "2025-10-15T07:34:29.902972",
     "status": "completed"
    },
    "tags": []
   },
   "outputs": [
    {
     "data": {
      "application/javascript": [
       "parent.postMessage({\"jupyterEvent\": \"custom.exercise_interaction\", \"data\": {\"outcomeType\": 1, \"valueTowardsCompletion\": 0.25, \"interactionType\": 1, \"questionType\": 4, \"questionId\": \"4_Q4\", \"learnToolsVersion\": \"0.3.4\", \"failureMessage\": \"\", \"exceptionClass\": \"\", \"trace\": \"\"}}, \"*\")"
      ],
      "text/plain": [
       "<IPython.core.display.Javascript object>"
      ]
     },
     "metadata": {},
     "output_type": "display_data"
    },
    {
     "data": {
      "text/markdown": [
       "<span style=\"color:#33cc33\">Correct:</span> \n",
       "\n",
       "That the training loss and validation loss stay fairly close is evidence that the model isn't just memorizing the training data, but rather learning general properties of the two classes. But, because this model converges at a loss greater than the VGG16 model, it's likely that it is underfitting some, and could benefit from some extra capacity.\n"
      ],
      "text/plain": [
       "Correct: \n",
       "\n",
       "That the training loss and validation loss stay fairly close is evidence that the model isn't just memorizing the training data, but rather learning general properties of the two classes. But, because this model converges at a loss greater than the VGG16 model, it's likely that it is underfitting some, and could benefit from some extra capacity."
      ]
     },
     "metadata": {},
     "output_type": "display_data"
    }
   ],
   "source": [
    "# View the solution (Run this code cell to receive credit!)\n",
    "q_4.check()"
   ]
  },
  {
   "cell_type": "markdown",
   "id": "6dac962c",
   "metadata": {
    "papermill": {
     "duration": 0.018376,
     "end_time": "2025-10-15T07:34:29.971544",
     "exception": false,
     "start_time": "2025-10-15T07:34:29.953168",
     "status": "completed"
    },
    "tags": []
   },
   "source": [
    "# Conclusion #\n",
    "\n",
    "In this first lesson, you learned the basics of **convolutional image classifiers**, that they consist of a **base** for extracting features from images, and a **head** which uses the features to decide the image's class. You also saw how to build a classifier with **transfer learning** on pretrained base. "
   ]
  },
  {
   "cell_type": "markdown",
   "id": "6b51ec9d",
   "metadata": {
    "papermill": {
     "duration": 0.017822,
     "end_time": "2025-10-15T07:34:30.006498",
     "exception": false,
     "start_time": "2025-10-15T07:34:29.988676",
     "status": "completed"
    },
    "tags": []
   },
   "source": [
    "# Keep Going #\n",
    "\n",
    "Move on to [**Lesson 2**](https://www.kaggle.com/ryanholbrook/convolution-and-relu) for a detailed look at how the base does this feature extraction. (It's really cool!)"
   ]
  },
  {
   "cell_type": "markdown",
   "id": "43f3ac07",
   "metadata": {
    "papermill": {
     "duration": 0.017088,
     "end_time": "2025-10-15T07:34:30.041116",
     "exception": false,
     "start_time": "2025-10-15T07:34:30.024028",
     "status": "completed"
    },
    "tags": []
   },
   "source": [
    "---\n",
    "\n",
    "\n",
    "\n",
    "\n",
    "*Have questions or comments? Visit the [course discussion forum](https://www.kaggle.com/learn/computer-vision/discussion) to chat with other learners.*"
   ]
  }
 ],
 "metadata": {
  "jupytext": {
   "formats": "ipynb,md",
   "split_at_heading": true
  },
  "kaggle": {
   "accelerator": "gpu",
   "dataSources": [
    {
     "datasetId": 708136,
     "sourceId": 1338830,
     "sourceType": "datasetVersion"
    },
    {
     "datasetId": 701538,
     "sourceId": 1363948,
     "sourceType": "datasetVersion"
    },
    {
     "datasetId": 878523,
     "sourceId": 1495782,
     "sourceType": "datasetVersion"
    }
   ],
   "dockerImageVersionId": 30648,
   "isGpuEnabled": true,
   "isInternetEnabled": false,
   "language": "python",
   "sourceType": "notebook"
  },
  "kernelspec": {
   "display_name": "Python 3",
   "language": "python",
   "name": "python3"
  },
  "language_info": {
   "codemirror_mode": {
    "name": "ipython",
    "version": 3
   },
   "file_extension": ".py",
   "mimetype": "text/x-python",
   "name": "python",
   "nbconvert_exporter": "python",
   "pygments_lexer": "ipython3",
   "version": "3.10.13"
  },
  "papermill": {
   "default_parameters": {},
   "duration": 287.185578,
   "end_time": "2025-10-15T07:34:32.470360",
   "environment_variables": {},
   "exception": null,
   "input_path": "__notebook__.ipynb",
   "output_path": "__notebook__.ipynb",
   "parameters": {},
   "start_time": "2025-10-15T07:29:45.284782",
   "version": "2.5.0"
  }
 },
 "nbformat": 4,
 "nbformat_minor": 5
}
